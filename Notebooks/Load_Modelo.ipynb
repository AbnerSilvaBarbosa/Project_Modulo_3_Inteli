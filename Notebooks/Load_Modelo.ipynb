{
  "nbformat": 4,
  "nbformat_minor": 0,
  "metadata": {
    "colab": {
      "provenance": []
    },
    "kernelspec": {
      "name": "python3",
      "display_name": "Python 3"
    },
    "language_info": {
      "name": "python"
    }
  },
  "cells": [
    {
      "cell_type": "code",
      "execution_count": null,
      "metadata": {
        "id": "Z-GR8V2kMQP8"
      },
      "outputs": [],
      "source": [
        "from joblib import load"
      ]
    },
    {
      "cell_type": "code",
      "source": [
        "model_loaded = load(\"/content/drive/MyDrive/Colab Notebooks/DeployModelo/Pantufas.model\")\n",
        "model_loaded"
      ],
      "metadata": {
        "colab": {
          "base_uri": "https://localhost:8080/"
        },
        "id": "kAdAWMGwMXs0",
        "outputId": "f4e321a7-0254-4358-bd67-8d28d3812d3a"
      },
      "execution_count": null,
      "outputs": [
        {
          "output_type": "execute_result",
          "data": {
            "text/plain": [
              "RandomForestClassifier(class_weight='balanced_subsample')"
            ]
          },
          "metadata": {},
          "execution_count": 2
        }
      ]
    },
    {
      "cell_type": "code",
      "source": [
        "import pandas as pd\n",
        "\n",
        "df = pd.read_csv('/content/drive/Shareddrives/Grupo-5/book_variaveis_pan_inteli_v5.zip')"
      ],
      "metadata": {
        "id": "Y1z5LEjsN2Uk"
      },
      "execution_count": null,
      "outputs": []
    },
    {
      "cell_type": "code",
      "source": [
        "def selecao_safra(safra):\n",
        "  safra_selecionada = df.loc[df['anomes'] == safra].drop_duplicates(keep='first').fillna(0)\n",
        "\n",
        "  # Troca de valores escala em string da coluna cod_rating para a escala em formato númerico\n",
        "  safra_selecionada['cod_rating'] = (safra_selecionada['cod_rating'].replace('HH', 1)\n",
        "                                                    .replace('H', 2)\n",
        "                                                    .replace('G', 3)\n",
        "                                                    .replace('F', 4)\n",
        "                                                    .replace('E', 5)\n",
        "                                                    .replace('D', 6)\n",
        "                                                    .replace('C', 7)\n",
        "                                                    .replace('B', 8)\n",
        "                                                    .replace('A', 9)\n",
        "                                                    .replace('AA', 10))\n",
        "\n",
        "  return safra_selecionada"
      ],
      "metadata": {
        "id": "Dd8z20gKODIf"
      },
      "execution_count": null,
      "outputs": []
    },
    {
      "cell_type": "code",
      "source": [
        "dados_preparados = selecao_safra(202104)"
      ],
      "metadata": {
        "id": "P2jXH2BkOVWu"
      },
      "execution_count": null,
      "outputs": []
    },
    {
      "cell_type": "code",
      "source": [
        "colunas_utilizadas = ['qtd_reclm','num_atend','vlr_score','num_produtos','cod_rating','ind_engaj']"
      ],
      "metadata": {
        "id": "kBEFQiIWP-9J"
      },
      "execution_count": null,
      "outputs": []
    },
    {
      "cell_type": "code",
      "source": [
        "dados_preparados.drop(columns=\"ind_atrito\").values"
      ],
      "metadata": {
        "colab": {
          "base_uri": "https://localhost:8080/"
        },
        "id": "jqMS0IuOO78u",
        "outputId": "15d1a9e4-e745-4fb6-c07a-e70dbb262f95"
      },
      "execution_count": null,
      "outputs": [
        {
          "output_type": "execute_result",
          "data": {
            "text/plain": [
              "array([[  0.,   0.,   0.,   0.,   0.,   0.],\n",
              "       [  0.,   0., 437.,   2.,   9.,   0.],\n",
              "       [  0.,   0.,   0.,   0.,   0.,   0.],\n",
              "       ...,\n",
              "       [  0.,   0., 609.,   0.,   0.,   0.],\n",
              "       [  0.,   0.,   0.,   0.,   0.,   0.],\n",
              "       [  0.,   0., 575.,   1.,   9.,   0.]])"
            ]
          },
          "metadata": {},
          "execution_count": 30
        }
      ]
    },
    {
      "cell_type": "code",
      "source": [
        "model_loaded.predict(dados_preparados[colunas_utilizadas])"
      ],
      "metadata": {
        "colab": {
          "base_uri": "https://localhost:8080/"
        },
        "id": "FhZqkOmxQfi1",
        "outputId": "4c2f9192-6bd7-4ddd-f848-4fd083325c58"
      },
      "execution_count": null,
      "outputs": [
        {
          "output_type": "stream",
          "name": "stderr",
          "text": [
            "/usr/local/lib/python3.7/dist-packages/sklearn/base.py:444: UserWarning: X has feature names, but RandomForestClassifier was fitted without feature names\n",
            "  f\"X has feature names, but {self.__class__.__name__} was fitted without\"\n"
          ]
        },
        {
          "output_type": "execute_result",
          "data": {
            "text/plain": [
              "array([0., 0., 0., ..., 0., 0., 1.])"
            ]
          },
          "metadata": {},
          "execution_count": 33
        }
      ]
    }
  ]
}