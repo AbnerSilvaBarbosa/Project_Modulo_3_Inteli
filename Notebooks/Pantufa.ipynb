{
  "cells": [
    {
      "cell_type": "markdown",
      "metadata": {
        "id": "Cp0NtX9BvmPT"
      },
      "source": [
        "**Instalações necessárias**\n",
        "- FASE 1: Instalação do python no notebook do colab."
      ]
    },
    {
      "cell_type": "code",
      "execution_count": null,
      "metadata": {
        "id": "sZz1pvXR96Ad"
      },
      "outputs": [],
      "source": [
        "!pip install -U -q PyDrive"
      ]
    },
    {
      "cell_type": "markdown",
      "metadata": {
        "id": "trVVbOY7v0lP"
      },
      "source": [
        "**Importações necessárias**\n",
        "- FASE 2: Importações das bibliotecas a serem utilizadas."
      ]
    },
    {
      "cell_type": "code",
      "execution_count": null,
      "metadata": {
        "id": "PUMAFtKH-Fxc"
      },
      "outputs": [],
      "source": [
        "import pandas as pd\n",
        "from pydrive.auth import GoogleAuth\n",
        "from pydrive.drive import GoogleDrive\n",
        "from google.colab import auth\n",
        "from oauth2client.client import GoogleCredentials\n",
        "import warnings\n",
        "import shutil\n",
        "warnings.filterwarnings('ignore')\n",
        "import plotly.express as px\n",
        "from sklearn.linear_model import LinearRegression\n",
        "from sklearn.tree import DecisionTreeRegressor\n",
        "from sklearn.utils import shuffle\n",
        "from sklearn.metrics._plot.confusion_matrix import ConfusionMatrixDisplay\n",
        "from sklearn.metrics import confusion_matrix\n",
        "from sklearn.metrics import plot_confusion_matrix\n",
        "from sklearn import svm\n",
        "from sklearn.model_selection import train_test_split\n",
        "from sklearn.tree import DecisionTreeClassifier\n",
        "from sklearn.neighbors import KNeighborsClassifier\n",
        "from sklearn.ensemble import RandomForestClassifier\n",
        "from sklearn.metrics import precision_score, recall_score"
      ]
    },
    {
      "cell_type": "markdown",
      "metadata": {
        "id": "esv9hbGLwKZt"
      },
      "source": [
        "**Autenticação de segurança**\n",
        "- FASE 3: Verificação de acesso do email INTELI para acessar a base de dados fornecida pelo Banco Pan. Importante para a segurança dos dados."
      ]
    },
    {
      "cell_type": "code",
      "execution_count": null,
      "metadata": {
        "id": "Cv3u-tGW-Hkm"
      },
      "outputs": [],
      "source": [
        "# Autenticação para acesso aos dados\n",
        "#auth.authenticate_user()\n",
        "#gauth = GoogleAuth()\n",
        "#gauth.credentials = GoogleCredentials.get_application_default()\n",
        "#drive = GoogleDrive(gauth)"
      ]
    },
    {
      "cell_type": "code",
      "source": [
        "from google.colab import drive\n",
        "drive.mount('/content/drive')"
      ],
      "metadata": {
        "colab": {
          "base_uri": "https://localhost:8080/"
        },
        "id": "EzzjYkOF-lul",
        "outputId": "b6e3e77b-fb5e-4d61-ac80-7f36a6efa2da"
      },
      "execution_count": null,
      "outputs": [
        {
          "output_type": "stream",
          "name": "stdout",
          "text": [
            "Mounted at /content/drive\n"
          ]
        }
      ]
    },
    {
      "cell_type": "markdown",
      "metadata": {
        "id": "a245Rqrewe97"
      },
      "source": [
        "**Download dos Dados**\n",
        "- FASE 4: Realização do download dos dados da base para esse notebook do Colab, para a visualização e manipulação."
      ]
    },
    {
      "cell_type": "code",
      "execution_count": null,
      "metadata": {
        "id": "ct4XM60K-Liq"
      },
      "outputs": [],
      "source": [
        "# Download dos dados para esta máquina virtual\n",
        "# downloaded = drive.CreateFile({'id': '1on2f6suP6pWH4HacVFMpYj14LFggYacf'})\n",
        "# downloaded.GetContentFile(\"book_variaveis_pan_inteli_v5.zip\")\n",
        "# shutil.unpack_archive(\"book_variaveis_pan_inteli_v5.zip\", \"./content/drive/Shareddrives/Grupo-5/book_variaveis_pan_inteli_v5.csv\")"
      ]
    },
    {
      "cell_type": "code",
      "execution_count": null,
      "metadata": {
        "id": "_IyTFYUiCDfz"
      },
      "outputs": [],
      "source": [
        "df = pd.read_csv(\"/content/drive/Shareddrives/Grupo-5/book_variaveis_pan_inteli_v5.zip\")"
      ]
    },
    {
      "cell_type": "markdown",
      "metadata": {
        "id": "eMnzYmN0HJWW"
      },
      "source": [
        "**Inicio do tratamento dos Dados**\n",
        "- FASE 5: Seleção de Safra e tratamento inicial das colunas com dados nulos/vazios, como o modelo de treinamento não aceita dados nulos ou strings, essa fase se torna de suma importância e deve ser realizada com calma.\n",
        "- Isso está sendo feito para a melhor filtragem de dados, e para não consumirmos uma enorme quantidade de processamento.\n"
      ]
    },
    {
      "cell_type": "code",
      "execution_count": null,
      "metadata": {
        "id": "mel5eTXgFIZG"
      },
      "outputs": [],
      "source": [
        "#Seleciona uma safra, tira possiveis duplicados e troca o NaN por 0.\n",
        "\n",
        "df_202104 = df.loc[df['anomes'] == 202104].drop_duplicates(keep='first').fillna(0)"
      ]
    },
    {
      "cell_type": "markdown",
      "metadata": {
        "id": "5AzaI7rUuaTP"
      },
      "source": [
        "**Tratando Dados**\n",
        "- FASE 6: Tratamento de valores em formato String da coluna 'cod_rating'. Como citado no passo anterior, um modelo de treinamento não deve possuir strings, sendo assim é necessário fazer o tratamento na coluna 'cod_rating' transformando a escala que antes era \"AA, A, B, C, D, E, F, G,H, HH\" para \"10, 9, 8, 7, 6, 5, 4, 3, 2, 1, 0\". **Nota: Já que tratamos os valores nulos de toda os campos anteriormente, não é necessario tratar novamente nesta etapa, desta maneira o valor NaN é considerado o valor 0.**"
      ]
    },
    {
      "cell_type": "code",
      "execution_count": null,
      "metadata": {
        "id": "tF5PcvAvqGWR"
      },
      "outputs": [],
      "source": [
        "# Troca de valores escala em string da coluna cod_rating para a escala em formato númerico\n",
        "df_202104['cod_rating'] = (df_202104['cod_rating'].replace('HH', 1)\n",
        "                                                  .replace('H', 2)\n",
        "                                                  .replace('G', 3)\n",
        "                                                  .replace('F', 4)\n",
        "                                                  .replace('E', 5)\n",
        "                                                  .replace('D', 6)\n",
        "                                                  .replace('C', 7)\n",
        "                                                  .replace('B', 8)\n",
        "                                                  .replace('A', 9)\n",
        "                                                  .replace('AA', 10))"
      ]
    },
    {
      "cell_type": "markdown",
      "metadata": {
        "id": "qYBtUqX2us7i"
      },
      "source": [
        "**Ordenar Dados**\n",
        "- FASE 7: Para a criação do modelo de treinamento, ordenamos os dados tratados com base na coluna de 'ind_atrito' para poder pegar o maior número de linhas que possua valor na coluna diferente de 0. \n",
        "- O ordenamento é feito para facilitar a separação entre os clientes com índice atritado 1 e 0, auxiliando o corte dos dados que serão usados no treinamento do modelo.\n"
      ]
    },
    {
      "cell_type": "code",
      "execution_count": null,
      "metadata": {
        "id": "fkFb2SQUsaaM"
      },
      "outputs": [],
      "source": [
        "#Ordenação dos dados pela coluna ind_atrito\n",
        "df_202104 = df_202104.sort_values(by=['ind_atrito'],ascending=False)"
      ]
    },
    {
      "cell_type": "markdown",
      "metadata": {
        "id": "-bryrbGyQmpT"
      },
      "source": [
        "**Automatização do número de atritos**\n",
        "- Função que automatiza a busca do número de clientes atritados por safra, agilizando testes com multiplas safras"
      ]
    },
    {
      "cell_type": "code",
      "execution_count": null,
      "metadata": {
        "id": "ErCHkvWZRQ5S",
        "colab": {
          "base_uri": "https://localhost:8080/"
        },
        "outputId": "2aa9f3ea-1412-43d4-eabe-1466c6a2a048"
      },
      "outputs": [
        {
          "output_type": "execute_result",
          "data": {
            "text/plain": [
              "257"
            ]
          },
          "metadata": {},
          "execution_count": 10
        }
      ],
      "source": [
        "#Automatização de numero de indice de atrito\n",
        "def num_atritados(safra):\n",
        "  data = df.loc[df['anomes'] == safra]['ind_atrito'].value_counts()\n",
        "  num_atrito = pd.Series(data, index = [0, 1])\n",
        "  if num_atrito[1] == 0:\n",
        "    return int(num_atrito[0])\n",
        "  else:\n",
        "    return int(num_atrito[1])\n",
        "\n",
        "num_atritados(202104)"
      ]
    },
    {
      "cell_type": "markdown",
      "metadata": {
        "id": "cTqRbNKdMAxS"
      },
      "source": [
        "**Seleção e tratamento de novas safras**\n",
        "- Resumo das outras safras\n",
        "- Para serem usados para treino e para teste dos modelos futuros\n",
        "\n",
        "\n",
        "**Função de seleção e tratamento de safra**\n",
        "- Para agilizar o processo de seleção e tratamentos de safras, realizamos um função onde é obrigatório passar o paramêtro \"anomes', e tem como paramêtro opcional o numero de linhas para o dataframe, caso esse valor não seja passado o dataframe tera 600 linhas."
      ]
    },
    {
      "cell_type": "code",
      "execution_count": null,
      "metadata": {
        "id": "DzNnLHXZGZry"
      },
      "outputs": [],
      "source": [
        "def selecao_safra(safra,num_linhas=600):\n",
        "  safra_selecionada = df.loc[df['anomes'] == safra].drop_duplicates(keep='first').fillna(0)\n",
        "\n",
        "  # Troca de valores escala em string da coluna cod_rating para a escala em formato númerico\n",
        "  safra_selecionada['cod_rating'] = (safra_selecionada['cod_rating'].replace('HH', 1)\n",
        "                                                    .replace('H', 2)\n",
        "                                                    .replace('G', 3)\n",
        "                                                    .replace('F', 4)\n",
        "                                                    .replace('E', 5)\n",
        "                                                    .replace('D', 6)\n",
        "                                                    .replace('C', 7)\n",
        "                                                    .replace('B', 8)\n",
        "                                                    .replace('A', 9)\n",
        "                                                    .replace('AA', 10))\n",
        "  # ordena em ordem decrescente de valor atritado\n",
        "  safra_selecionada = safra_selecionada.sort_values(by=['ind_atrito'],ascending=False)\n",
        "  safra_selecionada = safra_selecionada[:num_linhas]\n",
        "  \n",
        "\n",
        "\n",
        "  return safra_selecionada"
      ]
    },
    {
      "cell_type": "markdown",
      "metadata": {
        "id": "swIg2x2pvhOS"
      },
      "source": [
        "**Seleção dos Dados para Preparação**\n",
        "- FASE 8: Para os testes e treinamentos a seguir nós usamos a função \"selecao_safra\", criada acima, para selecionar e preparar a base de dados para ser usada futuramente, facilitando assim a modificação de safra para treinamento e testes de modelos. Usamos a safra 202104 com 600 linhas no dataframe.\n"
      ]
    },
    {
      "cell_type": "code",
      "execution_count": null,
      "metadata": {
        "id": "Md45LzUvNriY"
      },
      "outputs": [],
      "source": [
        "#Retorna os dados reformulados da safra de acordo com o anomes\n",
        "dados_preparados = selecao_safra(202104,1000)"
      ]
    },
    {
      "cell_type": "markdown",
      "metadata": {
        "id": "Y1D6K01Sxjp-"
      },
      "source": [
        "**Relatório dos Dados em Gráfico**\n",
        "- FASE 9: Criação do gráfico de valor do score por índice de atrito, para checar se há relação das pessoas que possuem maior score terem um índice maior de atrito."
      ]
    },
    {
      "cell_type": "code",
      "execution_count": null,
      "metadata": {
        "id": "EHTkL11kisIt",
        "colab": {
          "base_uri": "https://localhost:8080/",
          "height": 317
        },
        "outputId": "70d8176f-69bc-45e9-9f45-41117ee979f9"
      },
      "outputs": [
        {
          "output_type": "display_data",
          "data": {
            "text/html": [
              "<html>\n",
              "<head><meta charset=\"utf-8\" /></head>\n",
              "<body>\n",
              "    <div>            <script src=\"https://cdnjs.cloudflare.com/ajax/libs/mathjax/2.7.5/MathJax.js?config=TeX-AMS-MML_SVG\"></script><script type=\"text/javascript\">if (window.MathJax) {MathJax.Hub.Config({SVG: {font: \"STIX-Web\"}});}</script>                <script type=\"text/javascript\">window.PlotlyConfig = {MathJaxConfig: 'local'};</script>\n",
              "        <script src=\"https://cdn.plot.ly/plotly-2.8.3.min.js\"></script>                <div id=\"87486af4-c1fc-4b81-be67-160b43837ffa\" class=\"plotly-graph-div\" style=\"height:300px; width:600px;\"></div>            <script type=\"text/javascript\">                                    window.PLOTLYENV=window.PLOTLYENV || {};                                    if (document.getElementById(\"87486af4-c1fc-4b81-be67-160b43837ffa\")) {                    Plotly.newPlot(                        \"87486af4-c1fc-4b81-be67-160b43837ffa\",                        [{\"hovertemplate\":\"ind_atrito=%{x}<br>vlr_score=%{y}<extra></extra>\",\"legendgroup\":\"\",\"line\":{\"color\":\"#636efa\"},\"marker\":{\"symbol\":\"circle\"},\"mode\":\"lines\",\"name\":\"\",\"orientation\":\"v\",\"showlegend\":false,\"stackgroup\":\"1\",\"x\":[1.0,1.0,1.0,1.0,1.0,1.0,1.0,1.0,1.0,1.0,1.0,1.0,1.0,1.0,1.0,1.0,1.0,1.0,1.0,1.0,1.0,1.0,1.0,1.0,1.0,1.0,1.0,1.0,1.0,1.0,1.0,1.0,1.0,1.0,1.0,1.0,1.0,1.0,1.0,1.0,1.0,1.0,1.0,1.0,1.0,1.0,1.0,1.0,1.0,1.0,1.0,1.0,1.0,1.0,1.0,1.0,1.0,1.0,1.0,1.0,1.0,1.0,1.0,1.0,1.0,1.0,1.0,1.0,1.0,1.0,1.0,1.0,1.0,1.0,1.0,1.0,1.0,1.0,1.0,1.0,1.0,1.0,1.0,1.0,1.0,1.0,1.0,1.0,1.0,1.0,1.0,1.0,1.0,1.0,1.0,1.0,1.0,1.0,1.0,1.0,1.0,1.0,1.0,1.0,1.0,1.0,1.0,1.0,1.0,1.0,1.0,1.0,1.0,1.0,1.0,1.0,1.0,1.0,1.0,1.0,1.0,1.0,1.0,1.0,1.0,1.0,1.0,1.0,1.0,1.0,1.0,1.0,1.0,1.0,1.0,1.0,1.0,1.0,1.0,1.0,1.0,1.0,1.0,1.0,1.0,1.0,1.0,1.0,1.0,1.0,1.0,1.0,1.0,1.0,1.0,1.0,1.0,1.0,1.0,1.0,1.0,1.0,1.0,1.0,1.0,1.0,1.0,1.0,1.0,1.0,1.0,1.0,1.0,1.0,1.0,1.0,1.0,1.0,1.0,1.0,1.0,1.0,1.0,1.0,1.0,1.0,1.0,1.0,1.0,1.0,1.0,1.0,1.0,1.0,1.0,1.0,1.0,1.0,1.0,1.0,1.0,1.0,1.0,1.0,1.0,1.0,1.0,1.0,1.0,1.0,1.0,1.0,1.0,1.0,1.0,1.0,1.0,1.0,1.0,1.0,1.0,1.0,1.0,1.0,1.0,1.0,1.0,1.0,1.0,1.0,1.0,1.0,1.0,1.0,1.0,1.0,1.0,1.0,1.0,1.0,1.0,1.0,1.0,1.0,1.0,1.0,1.0,1.0,1.0,1.0,1.0,1.0,1.0,1.0,1.0,1.0,1.0,0.0,0.0,0.0,0.0,0.0,0.0,0.0,0.0,0.0,0.0,0.0,0.0,0.0,0.0,0.0,0.0,0.0,0.0,0.0,0.0,0.0,0.0,0.0,0.0,0.0,0.0,0.0,0.0,0.0,0.0,0.0,0.0,0.0,0.0,0.0,0.0,0.0,0.0,0.0,0.0,0.0,0.0,0.0,0.0,0.0,0.0,0.0,0.0,0.0,0.0,0.0,0.0,0.0,0.0,0.0,0.0,0.0,0.0,0.0,0.0,0.0,0.0,0.0,0.0,0.0,0.0,0.0,0.0,0.0,0.0,0.0,0.0,0.0,0.0,0.0,0.0,0.0,0.0,0.0,0.0,0.0,0.0,0.0,0.0,0.0,0.0,0.0,0.0,0.0,0.0,0.0,0.0,0.0,0.0,0.0,0.0,0.0,0.0,0.0,0.0,0.0,0.0,0.0,0.0,0.0,0.0,0.0,0.0,0.0,0.0,0.0,0.0,0.0,0.0,0.0,0.0,0.0,0.0,0.0,0.0,0.0,0.0,0.0,0.0,0.0,0.0,0.0,0.0,0.0,0.0,0.0,0.0,0.0,0.0,0.0,0.0,0.0,0.0,0.0,0.0,0.0,0.0,0.0,0.0,0.0,0.0,0.0,0.0,0.0,0.0,0.0,0.0,0.0,0.0,0.0,0.0,0.0,0.0,0.0,0.0,0.0,0.0,0.0,0.0,0.0,0.0,0.0,0.0,0.0,0.0,0.0,0.0,0.0,0.0,0.0,0.0,0.0,0.0,0.0,0.0,0.0,0.0,0.0,0.0,0.0,0.0,0.0,0.0,0.0,0.0,0.0,0.0,0.0,0.0,0.0,0.0,0.0,0.0,0.0,0.0,0.0,0.0,0.0,0.0,0.0,0.0,0.0,0.0,0.0,0.0,0.0,0.0,0.0,0.0,0.0,0.0,0.0,0.0,0.0,0.0,0.0,0.0,0.0,0.0,0.0,0.0,0.0,0.0,0.0,0.0,0.0,0.0,0.0,0.0,0.0,0.0,0.0,0.0,0.0,0.0,0.0,0.0,0.0,0.0,0.0,0.0,0.0,0.0,0.0,0.0,0.0,0.0,0.0,0.0,0.0,0.0,0.0,0.0,0.0,0.0,0.0,0.0,0.0,0.0,0.0,0.0,0.0,0.0,0.0,0.0,0.0,0.0,0.0,0.0,0.0,0.0,0.0,0.0,0.0,0.0,0.0,0.0,0.0,0.0,0.0,0.0,0.0,0.0,0.0,0.0,0.0,0.0,0.0,0.0,0.0,0.0,0.0,0.0,0.0,0.0,0.0,0.0,0.0,0.0,0.0,0.0,0.0,0.0,0.0,0.0,0.0,0.0,0.0,0.0,0.0,0.0,0.0,0.0,0.0,0.0,0.0,0.0,0.0,0.0,0.0,0.0,0.0,0.0,0.0,0.0,0.0,0.0,0.0,0.0,0.0,0.0,0.0,0.0,0.0,0.0,0.0,0.0,0.0,0.0,0.0,0.0,0.0,0.0,0.0,0.0,0.0,0.0,0.0,0.0,0.0,0.0,0.0,0.0,0.0,0.0,0.0,0.0,0.0,0.0,0.0,0.0,0.0,0.0,0.0,0.0,0.0,0.0,0.0,0.0,0.0,0.0,0.0,0.0,0.0,0.0,0.0,0.0,0.0,0.0,0.0,0.0,0.0,0.0,0.0,0.0,0.0,0.0,0.0,0.0,0.0,0.0,0.0,0.0,0.0,0.0,0.0,0.0,0.0,0.0,0.0,0.0,0.0,0.0,0.0,0.0,0.0,0.0,0.0,0.0,0.0,0.0,0.0,0.0,0.0,0.0,0.0,0.0,0.0,0.0,0.0,0.0,0.0,0.0,0.0,0.0,0.0,0.0,0.0,0.0,0.0,0.0,0.0,0.0,0.0,0.0,0.0,0.0,0.0,0.0,0.0,0.0,0.0,0.0,0.0,0.0,0.0,0.0,0.0,0.0,0.0,0.0,0.0,0.0,0.0,0.0,0.0,0.0,0.0,0.0,0.0,0.0,0.0,0.0,0.0,0.0,0.0,0.0,0.0,0.0,0.0,0.0,0.0,0.0,0.0,0.0,0.0,0.0,0.0,0.0,0.0,0.0,0.0,0.0,0.0,0.0,0.0,0.0,0.0,0.0,0.0,0.0,0.0,0.0,0.0,0.0,0.0,0.0,0.0,0.0,0.0,0.0,0.0,0.0,0.0,0.0,0.0,0.0,0.0,0.0,0.0,0.0,0.0,0.0,0.0,0.0,0.0,0.0,0.0,0.0,0.0,0.0,0.0,0.0,0.0,0.0,0.0,0.0,0.0,0.0,0.0,0.0,0.0,0.0,0.0,0.0,0.0,0.0,0.0,0.0,0.0,0.0,0.0,0.0,0.0,0.0,0.0,0.0,0.0,0.0,0.0,0.0,0.0,0.0,0.0,0.0,0.0,0.0,0.0,0.0,0.0,0.0,0.0,0.0,0.0,0.0,0.0,0.0,0.0,0.0,0.0,0.0,0.0,0.0,0.0,0.0,0.0,0.0,0.0,0.0,0.0,0.0,0.0,0.0,0.0,0.0,0.0,0.0,0.0,0.0,0.0,0.0,0.0,0.0,0.0,0.0,0.0,0.0,0.0,0.0,0.0,0.0,0.0,0.0,0.0,0.0,0.0,0.0,0.0,0.0,0.0,0.0,0.0,0.0,0.0,0.0,0.0,0.0,0.0,0.0,0.0,0.0,0.0,0.0,0.0,0.0,0.0,0.0,0.0,0.0,0.0,0.0,0.0,0.0,0.0,0.0,0.0,0.0,0.0,0.0,0.0,0.0,0.0,0.0,0.0,0.0,0.0,0.0,0.0,0.0,0.0,0.0,0.0,0.0,0.0,0.0,0.0,0.0,0.0,0.0,0.0,0.0,0.0,0.0,0.0,0.0,0.0,0.0,0.0,0.0,0.0,0.0,0.0,0.0,0.0,0.0,0.0,0.0,0.0,0.0,0.0,0.0,0.0,0.0,0.0,0.0,0.0,0.0,0.0,0.0,0.0,0.0,0.0,0.0,0.0,0.0,0.0,0.0,0.0,0.0,0.0,0.0,0.0,0.0,0.0,0.0,0.0,0.0,0.0,0.0,0.0,0.0,0.0,0.0,0.0,0.0,0.0,0.0,0.0,0.0,0.0,0.0,0.0,0.0,0.0,0.0,0.0,0.0,0.0,0.0,0.0,0.0,0.0,0.0,0.0,0.0,0.0,0.0,0.0],\"xaxis\":\"x\",\"y\":[183.0,388.0,389.0,536.0,433.0,920.0,382.0,406.0,0.0,454.0,410.0,442.0,780.0,469.0,415.0,165.0,780.0,736.0,542.0,958.0,611.0,0.0,912.0,458.0,0.0,895.0,641.0,659.0,332.0,650.0,0.0,717.0,568.0,0.0,639.0,687.0,763.0,374.0,0.0,386.0,411.0,519.0,906.0,0.0,888.0,708.0,444.0,775.0,510.0,363.0,244.0,705.0,242.0,782.0,562.0,911.0,773.0,717.0,575.0,0.0,492.0,729.0,302.0,618.0,800.0,496.0,364.0,864.0,575.0,703.0,922.0,760.0,0.0,0.0,454.0,327.0,452.0,613.0,374.0,492.0,158.0,246.0,882.0,512.0,311.0,908.0,412.0,356.0,456.0,719.0,866.0,726.0,397.0,466.0,533.0,374.0,488.0,674.0,542.0,484.0,424.0,109.0,544.0,0.0,156.0,930.0,488.0,382.0,715.0,590.0,346.0,937.0,161.0,758.0,747.0,635.0,415.0,556.0,167.0,278.0,334.0,316.0,483.0,0.0,477.0,410.0,875.0,888.0,360.0,0.0,560.0,159.0,643.0,823.0,0.0,575.0,502.0,758.0,639.0,0.0,729.0,785.0,570.0,322.0,437.0,782.0,689.0,504.0,244.0,575.0,422.0,380.0,376.0,568.0,922.0,817.0,391.0,477.0,469.0,952.0,575.0,787.0,417.0,765.0,525.0,575.0,582.0,657.0,680.0,183.0,820.0,375.0,285.0,750.0,900.0,758.0,475.0,693.0,446.0,763.0,304.0,795.0,425.0,397.0,244.0,278.0,171.0,337.0,647.0,0.0,562.0,372.0,961.0,560.0,156.0,935.0,0.0,708.0,575.0,715.0,448.0,200.0,722.0,780.0,0.0,397.0,437.0,596.0,670.0,758.0,204.0,517.0,407.0,506.0,452.0,440.0,259.0,853.0,295.0,426.0,373.0,384.0,953.0,0.0,908.0,376.0,233.0,780.0,417.0,884.0,655.0,615.0,592.0,763.0,672.0,691.0,575.0,0.0,426.0,959.0,575.0,416.0,531.0,672.0,0.0,523.0,913.0,958.0,641.0,911.0,382.0,605.0,715.0,431.0,924.0,358.0,753.0,790.0,0.0,0.0,0.0,0.0,724.0,670.0,0.0,158.0,0.0,0.0,469.0,0.0,0.0,0.0,467.0,0.0,0.0,0.0,404.0,763.0,0.0,0.0,575.0,0.0,95.0,0.0,0.0,0.0,0.0,0.0,763.0,0.0,0.0,0.0,0.0,430.0,348.0,875.0,0.0,0.0,0.0,0.0,146.0,388.0,0.0,0.0,0.0,306.0,0.0,942.0,0.0,336.0,394.0,395.0,498.0,0.0,274.0,0.0,600.0,575.0,0.0,0.0,0.0,0.0,823.0,0.0,0.0,387.0,0.0,0.0,0.0,0.0,0.0,0.0,911.0,763.0,0.0,850.0,0.0,244.0,0.0,0.0,390.0,119.0,217.0,0.0,366.0,0.0,0.0,0.0,0.0,0.0,0.0,425.0,442.0,0.0,0.0,0.0,611.0,0.0,0.0,940.0,0.0,0.0,0.0,437.0,0.0,0.0,0.0,747.0,0.0,94.0,0.0,0.0,0.0,0.0,525.0,377.0,691.0,544.0,0.0,574.0,0.0,0.0,517.0,0.0,486.0,0.0,415.0,0.0,958.0,517.0,0.0,659.0,0.0,0.0,0.0,350.0,400.0,139.0,0.0,800.0,700.0,661.0,0.0,0.0,397.0,919.0,0.0,765.0,0.0,0.0,0.0,0.0,0.0,733.0,0.0,964.0,0.0,517.0,0.0,0.0,246.0,643.0,0.0,907.0,137.0,378.0,0.0,372.0,0.0,0.0,584.0,431.0,645.0,840.0,0.0,389.0,103.0,525.0,189.0,0.0,787.0,0.0,956.0,287.0,417.0,0.0,0.0,726.0,917.0,0.0,0.0,0.0,94.0,0.0,398.0,0.0,0.0,337.0,0.0,377.0,0.0,626.0,0.0,0.0,64.0,0.0,780.0,0.0,0.0,197.0,0.0,0.0,676.0,0.0,641.0,0.0,558.0,488.0,311.0,0.0,344.0,639.0,0.0,481.0,150.0,0.0,840.0,0.0,0.0,0.0,219.0,0.0,0.0,0.0,0.0,393.0,777.0,0.0,0.0,0.0,0.0,653.0,0.0,359.0,0.0,0.0,408.0,354.0,0.0,753.0,641.0,0.0,0.0,442.0,0.0,0.0,83.0,0.0,655.0,0.0,689.0,657.0,316.0,554.0,0.0,0.0,368.0,450.0,0.0,0.0,92.0,0.0,502.0,392.0,0.0,316.0,0.0,0.0,575.0,552.0,0.0,0.0,0.0,0.0,0.0,575.0,95.0,408.0,0.0,0.0,661.0,0.0,0.0,605.0,0.0,0.0,645.0,0.0,0.0,0.0,415.0,0.0,0.0,0.0,0.0,592.0,0.0,496.0,0.0,94.0,0.0,517.0,575.0,0.0,685.0,0.0,0.0,959.0,0.0,0.0,0.0,0.0,0.0,0.0,0.0,797.0,434.0,0.0,0.0,0.0,0.0,0.0,237.0,0.0,0.0,0.0,0.0,500.0,442.0,0.0,308.0,379.0,0.0,0.0,0.0,626.0,0.0,830.0,366.0,348.0,384.0,0.0,0.0,0.0,510.0,0.0,665.0,0.0,0.0,755.0,359.0,280.0,0.0,0.0,367.0,0.0,0.0,0.0,536.0,0.0,525.0,0.0,424.0,0.0,0.0,560.0,0.0,437.0,0.0,0.0,0.0,920.0,0.0,0.0,0.0,531.0,0.0,189.0,365.0,0.0,0.0,517.0,0.0,0.0,0.0,343.0,0.0,397.0,0.0,389.0,0.0,370.0,406.0,438.0,366.0,0.0,0.0,906.0,0.0,403.0,486.0,0.0,0.0,523.0,375.0,0.0,542.0,500.0,0.0,447.0,546.0,488.0,0.0,641.0,0.0,0.0,0.0,529.0,0.0,0.0,538.0,0.0,0.0,0.0,0.0,467.0,392.0,0.0,0.0,0.0,365.0,0.0,0.0,389.0,0.0,439.0,219.0,424.0,263.0,668.0,494.0,0.0,795.0,0.0,291.0,316.0,560.0,0.0,678.0,506.0,0.0,575.0,0.0,590.0,0.0,475.0,0.0,446.0,368.0,0.0,0.0,255.0,431.0,0.0,110.0,233.0,287.0,921.0,0.0,0.0,521.0,866.0,416.0,367.0,552.0,0.0,879.0,384.0,689.0,0.0,0.0,360.0,0.0,0.0,0.0,488.0,0.0,765.0,357.0,580.0,0.0,0.0,0.0,609.0,0.0,691.0,0.0,385.0,0.0,0.0,552.0,840.0,145.0,0.0,531.0,0.0,937.0,0.0,0.0,902.0,0.0,346.0,517.0,0.0,180.0,0.0,0.0,517.0,434.0,0.0,674.0,343.0,375.0,0.0,0.0,0.0,456.0,0.0,0.0,0.0,516.0,444.0,850.0,0.0,130.0,0.0,382.0,575.0,0.0,122.0,430.0,0.0,0.0,484.0,500.0,0.0,373.0,0.0,422.0,0.0,95.0,231.0,0.0,592.0,0.0,768.0,546.0,339.0,0.0,0.0,362.0,0.0,0.0,575.0,0.0,787.0,0.0,494.0,575.0,155.0,568.0,768.0,833.0,426.0,490.0,0.0,0.0,919.0,0.0,527.0,0.0,823.0,600.0,554.0,426.0,0.0,0.0,0.0,424.0,426.0,0.0,458.0,410.0,0.0,0.0,710.0,0.0,0.0,0.0,407.0,413.0,775.0,760.0,488.0,0.0,0.0,0.0,0.0,0.0,0.0,0.0,833.0,626.0,670.0,0.0,0.0,0.0,0.0,407.0,417.0,0.0,0.0,641.0,397.0,0.0,0.0,447.0,0.0,0.0,0.0,359.0,641.0,0.0,519.0,521.0,362.0,0.0,464.0,231.0,0.0,0.0,0.0,443.0,0.0,0.0,0.0,736.0,0.0,0.0,375.0,0.0,647.0,0.0,469.0,0.0,0.0,717.0,0.0,313.0,659.0,0.0,439.0,315.0,0.0,0.0,0.0,0.0,0.0,820.0,0.0,0.0,0.0,912.0,0.0,0.0,615.0,0.0,0.0,0.0,0.0,381.0,0.0,0.0,576.0,582.0,372.0,0.0,514.0,0.0,0.0,374.0,0.0,552.0,0.0,0.0,289.0,0.0,0.0,850.0,0.0,0.0,705.0,287.0,745.0,689.0,381.0,680.0,722.0,823.0,0.0,661.0,605.0,0.0,0.0,486.0,0.0,0.0,161.0,0.0,0.0,0.0,350.0,0.0,787.0,389.0,0.0,780.0,129.0,0.0,724.0],\"yaxis\":\"y\",\"type\":\"scatter\"}],                        {\"template\":{\"data\":{\"bar\":[{\"error_x\":{\"color\":\"#2a3f5f\"},\"error_y\":{\"color\":\"#2a3f5f\"},\"marker\":{\"line\":{\"color\":\"#E5ECF6\",\"width\":0.5},\"pattern\":{\"fillmode\":\"overlay\",\"size\":10,\"solidity\":0.2}},\"type\":\"bar\"}],\"barpolar\":[{\"marker\":{\"line\":{\"color\":\"#E5ECF6\",\"width\":0.5},\"pattern\":{\"fillmode\":\"overlay\",\"size\":10,\"solidity\":0.2}},\"type\":\"barpolar\"}],\"carpet\":[{\"aaxis\":{\"endlinecolor\":\"#2a3f5f\",\"gridcolor\":\"white\",\"linecolor\":\"white\",\"minorgridcolor\":\"white\",\"startlinecolor\":\"#2a3f5f\"},\"baxis\":{\"endlinecolor\":\"#2a3f5f\",\"gridcolor\":\"white\",\"linecolor\":\"white\",\"minorgridcolor\":\"white\",\"startlinecolor\":\"#2a3f5f\"},\"type\":\"carpet\"}],\"choropleth\":[{\"colorbar\":{\"outlinewidth\":0,\"ticks\":\"\"},\"type\":\"choropleth\"}],\"contour\":[{\"colorbar\":{\"outlinewidth\":0,\"ticks\":\"\"},\"colorscale\":[[0.0,\"#0d0887\"],[0.1111111111111111,\"#46039f\"],[0.2222222222222222,\"#7201a8\"],[0.3333333333333333,\"#9c179e\"],[0.4444444444444444,\"#bd3786\"],[0.5555555555555556,\"#d8576b\"],[0.6666666666666666,\"#ed7953\"],[0.7777777777777778,\"#fb9f3a\"],[0.8888888888888888,\"#fdca26\"],[1.0,\"#f0f921\"]],\"type\":\"contour\"}],\"contourcarpet\":[{\"colorbar\":{\"outlinewidth\":0,\"ticks\":\"\"},\"type\":\"contourcarpet\"}],\"heatmap\":[{\"colorbar\":{\"outlinewidth\":0,\"ticks\":\"\"},\"colorscale\":[[0.0,\"#0d0887\"],[0.1111111111111111,\"#46039f\"],[0.2222222222222222,\"#7201a8\"],[0.3333333333333333,\"#9c179e\"],[0.4444444444444444,\"#bd3786\"],[0.5555555555555556,\"#d8576b\"],[0.6666666666666666,\"#ed7953\"],[0.7777777777777778,\"#fb9f3a\"],[0.8888888888888888,\"#fdca26\"],[1.0,\"#f0f921\"]],\"type\":\"heatmap\"}],\"heatmapgl\":[{\"colorbar\":{\"outlinewidth\":0,\"ticks\":\"\"},\"colorscale\":[[0.0,\"#0d0887\"],[0.1111111111111111,\"#46039f\"],[0.2222222222222222,\"#7201a8\"],[0.3333333333333333,\"#9c179e\"],[0.4444444444444444,\"#bd3786\"],[0.5555555555555556,\"#d8576b\"],[0.6666666666666666,\"#ed7953\"],[0.7777777777777778,\"#fb9f3a\"],[0.8888888888888888,\"#fdca26\"],[1.0,\"#f0f921\"]],\"type\":\"heatmapgl\"}],\"histogram\":[{\"marker\":{\"pattern\":{\"fillmode\":\"overlay\",\"size\":10,\"solidity\":0.2}},\"type\":\"histogram\"}],\"histogram2d\":[{\"colorbar\":{\"outlinewidth\":0,\"ticks\":\"\"},\"colorscale\":[[0.0,\"#0d0887\"],[0.1111111111111111,\"#46039f\"],[0.2222222222222222,\"#7201a8\"],[0.3333333333333333,\"#9c179e\"],[0.4444444444444444,\"#bd3786\"],[0.5555555555555556,\"#d8576b\"],[0.6666666666666666,\"#ed7953\"],[0.7777777777777778,\"#fb9f3a\"],[0.8888888888888888,\"#fdca26\"],[1.0,\"#f0f921\"]],\"type\":\"histogram2d\"}],\"histogram2dcontour\":[{\"colorbar\":{\"outlinewidth\":0,\"ticks\":\"\"},\"colorscale\":[[0.0,\"#0d0887\"],[0.1111111111111111,\"#46039f\"],[0.2222222222222222,\"#7201a8\"],[0.3333333333333333,\"#9c179e\"],[0.4444444444444444,\"#bd3786\"],[0.5555555555555556,\"#d8576b\"],[0.6666666666666666,\"#ed7953\"],[0.7777777777777778,\"#fb9f3a\"],[0.8888888888888888,\"#fdca26\"],[1.0,\"#f0f921\"]],\"type\":\"histogram2dcontour\"}],\"mesh3d\":[{\"colorbar\":{\"outlinewidth\":0,\"ticks\":\"\"},\"type\":\"mesh3d\"}],\"parcoords\":[{\"line\":{\"colorbar\":{\"outlinewidth\":0,\"ticks\":\"\"}},\"type\":\"parcoords\"}],\"pie\":[{\"automargin\":true,\"type\":\"pie\"}],\"scatter\":[{\"marker\":{\"colorbar\":{\"outlinewidth\":0,\"ticks\":\"\"}},\"type\":\"scatter\"}],\"scatter3d\":[{\"line\":{\"colorbar\":{\"outlinewidth\":0,\"ticks\":\"\"}},\"marker\":{\"colorbar\":{\"outlinewidth\":0,\"ticks\":\"\"}},\"type\":\"scatter3d\"}],\"scattercarpet\":[{\"marker\":{\"colorbar\":{\"outlinewidth\":0,\"ticks\":\"\"}},\"type\":\"scattercarpet\"}],\"scattergeo\":[{\"marker\":{\"colorbar\":{\"outlinewidth\":0,\"ticks\":\"\"}},\"type\":\"scattergeo\"}],\"scattergl\":[{\"marker\":{\"colorbar\":{\"outlinewidth\":0,\"ticks\":\"\"}},\"type\":\"scattergl\"}],\"scattermapbox\":[{\"marker\":{\"colorbar\":{\"outlinewidth\":0,\"ticks\":\"\"}},\"type\":\"scattermapbox\"}],\"scatterpolar\":[{\"marker\":{\"colorbar\":{\"outlinewidth\":0,\"ticks\":\"\"}},\"type\":\"scatterpolar\"}],\"scatterpolargl\":[{\"marker\":{\"colorbar\":{\"outlinewidth\":0,\"ticks\":\"\"}},\"type\":\"scatterpolargl\"}],\"scatterternary\":[{\"marker\":{\"colorbar\":{\"outlinewidth\":0,\"ticks\":\"\"}},\"type\":\"scatterternary\"}],\"surface\":[{\"colorbar\":{\"outlinewidth\":0,\"ticks\":\"\"},\"colorscale\":[[0.0,\"#0d0887\"],[0.1111111111111111,\"#46039f\"],[0.2222222222222222,\"#7201a8\"],[0.3333333333333333,\"#9c179e\"],[0.4444444444444444,\"#bd3786\"],[0.5555555555555556,\"#d8576b\"],[0.6666666666666666,\"#ed7953\"],[0.7777777777777778,\"#fb9f3a\"],[0.8888888888888888,\"#fdca26\"],[1.0,\"#f0f921\"]],\"type\":\"surface\"}],\"table\":[{\"cells\":{\"fill\":{\"color\":\"#EBF0F8\"},\"line\":{\"color\":\"white\"}},\"header\":{\"fill\":{\"color\":\"#C8D4E3\"},\"line\":{\"color\":\"white\"}},\"type\":\"table\"}]},\"layout\":{\"annotationdefaults\":{\"arrowcolor\":\"#2a3f5f\",\"arrowhead\":0,\"arrowwidth\":1},\"autotypenumbers\":\"strict\",\"coloraxis\":{\"colorbar\":{\"outlinewidth\":0,\"ticks\":\"\"}},\"colorscale\":{\"diverging\":[[0,\"#8e0152\"],[0.1,\"#c51b7d\"],[0.2,\"#de77ae\"],[0.3,\"#f1b6da\"],[0.4,\"#fde0ef\"],[0.5,\"#f7f7f7\"],[0.6,\"#e6f5d0\"],[0.7,\"#b8e186\"],[0.8,\"#7fbc41\"],[0.9,\"#4d9221\"],[1,\"#276419\"]],\"sequential\":[[0.0,\"#0d0887\"],[0.1111111111111111,\"#46039f\"],[0.2222222222222222,\"#7201a8\"],[0.3333333333333333,\"#9c179e\"],[0.4444444444444444,\"#bd3786\"],[0.5555555555555556,\"#d8576b\"],[0.6666666666666666,\"#ed7953\"],[0.7777777777777778,\"#fb9f3a\"],[0.8888888888888888,\"#fdca26\"],[1.0,\"#f0f921\"]],\"sequentialminus\":[[0.0,\"#0d0887\"],[0.1111111111111111,\"#46039f\"],[0.2222222222222222,\"#7201a8\"],[0.3333333333333333,\"#9c179e\"],[0.4444444444444444,\"#bd3786\"],[0.5555555555555556,\"#d8576b\"],[0.6666666666666666,\"#ed7953\"],[0.7777777777777778,\"#fb9f3a\"],[0.8888888888888888,\"#fdca26\"],[1.0,\"#f0f921\"]]},\"colorway\":[\"#636efa\",\"#EF553B\",\"#00cc96\",\"#ab63fa\",\"#FFA15A\",\"#19d3f3\",\"#FF6692\",\"#B6E880\",\"#FF97FF\",\"#FECB52\"],\"font\":{\"color\":\"#2a3f5f\"},\"geo\":{\"bgcolor\":\"white\",\"lakecolor\":\"white\",\"landcolor\":\"#E5ECF6\",\"showlakes\":true,\"showland\":true,\"subunitcolor\":\"white\"},\"hoverlabel\":{\"align\":\"left\"},\"hovermode\":\"closest\",\"mapbox\":{\"style\":\"light\"},\"paper_bgcolor\":\"white\",\"plot_bgcolor\":\"#E5ECF6\",\"polar\":{\"angularaxis\":{\"gridcolor\":\"white\",\"linecolor\":\"white\",\"ticks\":\"\"},\"bgcolor\":\"#E5ECF6\",\"radialaxis\":{\"gridcolor\":\"white\",\"linecolor\":\"white\",\"ticks\":\"\"}},\"scene\":{\"xaxis\":{\"backgroundcolor\":\"#E5ECF6\",\"gridcolor\":\"white\",\"gridwidth\":2,\"linecolor\":\"white\",\"showbackground\":true,\"ticks\":\"\",\"zerolinecolor\":\"white\"},\"yaxis\":{\"backgroundcolor\":\"#E5ECF6\",\"gridcolor\":\"white\",\"gridwidth\":2,\"linecolor\":\"white\",\"showbackground\":true,\"ticks\":\"\",\"zerolinecolor\":\"white\"},\"zaxis\":{\"backgroundcolor\":\"#E5ECF6\",\"gridcolor\":\"white\",\"gridwidth\":2,\"linecolor\":\"white\",\"showbackground\":true,\"ticks\":\"\",\"zerolinecolor\":\"white\"}},\"shapedefaults\":{\"line\":{\"color\":\"#2a3f5f\"}},\"ternary\":{\"aaxis\":{\"gridcolor\":\"white\",\"linecolor\":\"white\",\"ticks\":\"\"},\"baxis\":{\"gridcolor\":\"white\",\"linecolor\":\"white\",\"ticks\":\"\"},\"bgcolor\":\"#E5ECF6\",\"caxis\":{\"gridcolor\":\"white\",\"linecolor\":\"white\",\"ticks\":\"\"}},\"title\":{\"x\":0.05},\"xaxis\":{\"automargin\":true,\"gridcolor\":\"white\",\"linecolor\":\"white\",\"ticks\":\"\",\"title\":{\"standoff\":15},\"zerolinecolor\":\"white\",\"zerolinewidth\":2},\"yaxis\":{\"automargin\":true,\"gridcolor\":\"white\",\"linecolor\":\"white\",\"ticks\":\"\",\"title\":{\"standoff\":15},\"zerolinecolor\":\"white\",\"zerolinewidth\":2}}},\"xaxis\":{\"anchor\":\"y\",\"domain\":[0.0,1.0],\"title\":{\"text\":\"ind_atrito\"},\"type\":\"category\"},\"yaxis\":{\"anchor\":\"x\",\"domain\":[0.0,1.0],\"title\":{\"text\":\"vlr_score\"}},\"legend\":{\"tracegroupgap\":0},\"margin\":{\"t\":60},\"height\":300,\"width\":600},                        {\"responsive\": true}                    ).then(function(){\n",
              "                            \n",
              "var gd = document.getElementById('87486af4-c1fc-4b81-be67-160b43837ffa');\n",
              "var x = new MutationObserver(function (mutations, observer) {{\n",
              "        var display = window.getComputedStyle(gd).display;\n",
              "        if (!display || display === 'none') {{\n",
              "            console.log([gd, 'removed!']);\n",
              "            Plotly.purge(gd);\n",
              "            observer.disconnect();\n",
              "        }}\n",
              "}});\n",
              "\n",
              "// Listen for the removal of the full notebook cells\n",
              "var notebookContainer = gd.closest('#notebook-container');\n",
              "if (notebookContainer) {{\n",
              "    x.observe(notebookContainer, {childList: true});\n",
              "}}\n",
              "\n",
              "// Listen for the clearing of the current output cell\n",
              "var outputEl = gd.closest('.output');\n",
              "if (outputEl) {{\n",
              "    x.observe(outputEl, {childList: true});\n",
              "}}\n",
              "\n",
              "                        })                };                            </script>        </div>\n",
              "</body>\n",
              "</html>"
            ]
          },
          "metadata": {}
        }
      ],
      "source": [
        "#Criação do gráfico com seus repectivos dados\n",
        "fig = px.area(dados_preparados, x='ind_atrito', y='vlr_score', height=300, width=600)\n",
        "#Atualização dos gráficos\n",
        "fig.update_xaxes(type='category')\n",
        "#Vizualiação do gráfico\n",
        "fig.show()"
      ]
    },
    {
      "cell_type": "markdown",
      "metadata": {
        "id": "idTjlSA8yO0R"
      },
      "source": [
        "**Seleção das Colunas dos Dados**\n",
        "- FASE 10: Seleção de todas as colunas escolhidas no foco de treinamento da IA. Esses campos foram escolhidos por meio da estimativa de existir correlação entre algumas colunas 'qtd_reclm', 'num_atend_atrs', 'num_atend', 'ind_atrito', 'vlr_score', 'num_produtos', 'vlr_renda', 'cod_rating' e 'ind_engaj' que ajudaram na fase de treinamento, afim de gerar o modelo preditivo.\n",
        "- Não estão sendo usadas todas as colunas pois algumas delas poderiam gerar vieses nos resultados e assim, o treinamento não seria tão efetivo."
      ]
    },
    {
      "cell_type": "code",
      "execution_count": null,
      "metadata": {
        "id": "0XXbl8GCEpeg"
      },
      "outputs": [],
      "source": [
        "#Colunas escolhidas da base de dados para serem utilizadas\n",
        "colunas_para_treinamento = ['qtd_reclm','num_atend','ind_atrito','vlr_score','num_produtos','cod_rating','ind_engaj']"
      ]
    },
    {
      "cell_type": "code",
      "source": [
        "dados_preparados.head()"
      ],
      "metadata": {
        "colab": {
          "base_uri": "https://localhost:8080/"
        },
        "id": "qUL2R7gFXQjL",
        "outputId": "70ee8f92-9a5d-4655-cf1b-82ba16578cc1"
      },
      "execution_count": null,
      "outputs": [
        {
          "output_type": "execute_result",
          "data": {
            "text/plain": [
              "          anomes                                       num_cpf_hash  \\\n",
              "11342364  202104  4cf381b681683ec6a6a6d90e9ee2241648062f8d35847e...   \n",
              "8877844   202104  2d9daed5c2152920bb575b40f137f55649979d455d7a54...   \n",
              "9375079   202104  73ed31d33f6e35bdecae8799c1db8e4043a2ab4dc9ac6f...   \n",
              "3887432   202104  f6bee44307c0cc548092f7202687334ea558d200d4a814...   \n",
              "3762574   202104  d960800ddd1ad8eda1184c4981db897c546a486bbaad5d...   \n",
              "\n",
              "          vlr_credito  vlr_saldo  num_atend_atrs  vlr_score  num_produtos  \\\n",
              "11342364     19741.42    4670.96             0.0      183.0           7.0   \n",
              "8877844       6400.90     499.78             0.0      388.0           4.0   \n",
              "9375079       3200.20     399.63             0.0      389.0           3.0   \n",
              "3887432      29090.48    5910.93             0.0      536.0           7.0   \n",
              "3762574      12631.38    2003.73             0.0      433.0           1.0   \n",
              "\n",
              "          num_atend  qtd_oper  qtd_reclm  qtd_restr vlr_renda  cod_rating  \\\n",
              "11342364        0.0      32.0        1.0        6.0   6900,00           4   \n",
              "8877844         0.0      13.0        1.0        0.0   2200,00           9   \n",
              "9375079         0.0      16.0        1.0        0.0   1250,00           9   \n",
              "3887432         0.0      32.0        1.0        0.0  11700,00           8   \n",
              "3762574         0.0      12.0        0.0        1.0   4300,00           9   \n",
              "\n",
              "          ind_atrito  ind_engaj  ind_novo_cli  \n",
              "11342364         1.0        1.0           0.0  \n",
              "8877844          1.0        1.0           0.0  \n",
              "9375079          1.0        1.0           0.0  \n",
              "3887432          1.0        1.0           0.0  \n",
              "3762574          1.0        0.0           0.0  "
            ],
            "text/html": [
              "\n",
              "  <div id=\"df-cfb433ee-587f-4871-895f-f04536e666d1\">\n",
              "    <div class=\"colab-df-container\">\n",
              "      <div>\n",
              "<style scoped>\n",
              "    .dataframe tbody tr th:only-of-type {\n",
              "        vertical-align: middle;\n",
              "    }\n",
              "\n",
              "    .dataframe tbody tr th {\n",
              "        vertical-align: top;\n",
              "    }\n",
              "\n",
              "    .dataframe thead th {\n",
              "        text-align: right;\n",
              "    }\n",
              "</style>\n",
              "<table border=\"1\" class=\"dataframe\">\n",
              "  <thead>\n",
              "    <tr style=\"text-align: right;\">\n",
              "      <th></th>\n",
              "      <th>anomes</th>\n",
              "      <th>num_cpf_hash</th>\n",
              "      <th>vlr_credito</th>\n",
              "      <th>vlr_saldo</th>\n",
              "      <th>num_atend_atrs</th>\n",
              "      <th>vlr_score</th>\n",
              "      <th>num_produtos</th>\n",
              "      <th>num_atend</th>\n",
              "      <th>qtd_oper</th>\n",
              "      <th>qtd_reclm</th>\n",
              "      <th>qtd_restr</th>\n",
              "      <th>vlr_renda</th>\n",
              "      <th>cod_rating</th>\n",
              "      <th>ind_atrito</th>\n",
              "      <th>ind_engaj</th>\n",
              "      <th>ind_novo_cli</th>\n",
              "    </tr>\n",
              "  </thead>\n",
              "  <tbody>\n",
              "    <tr>\n",
              "      <th>11342364</th>\n",
              "      <td>202104</td>\n",
              "      <td>4cf381b681683ec6a6a6d90e9ee2241648062f8d35847e...</td>\n",
              "      <td>19741.42</td>\n",
              "      <td>4670.96</td>\n",
              "      <td>0.0</td>\n",
              "      <td>183.0</td>\n",
              "      <td>7.0</td>\n",
              "      <td>0.0</td>\n",
              "      <td>32.0</td>\n",
              "      <td>1.0</td>\n",
              "      <td>6.0</td>\n",
              "      <td>6900,00</td>\n",
              "      <td>4</td>\n",
              "      <td>1.0</td>\n",
              "      <td>1.0</td>\n",
              "      <td>0.0</td>\n",
              "    </tr>\n",
              "    <tr>\n",
              "      <th>8877844</th>\n",
              "      <td>202104</td>\n",
              "      <td>2d9daed5c2152920bb575b40f137f55649979d455d7a54...</td>\n",
              "      <td>6400.90</td>\n",
              "      <td>499.78</td>\n",
              "      <td>0.0</td>\n",
              "      <td>388.0</td>\n",
              "      <td>4.0</td>\n",
              "      <td>0.0</td>\n",
              "      <td>13.0</td>\n",
              "      <td>1.0</td>\n",
              "      <td>0.0</td>\n",
              "      <td>2200,00</td>\n",
              "      <td>9</td>\n",
              "      <td>1.0</td>\n",
              "      <td>1.0</td>\n",
              "      <td>0.0</td>\n",
              "    </tr>\n",
              "    <tr>\n",
              "      <th>9375079</th>\n",
              "      <td>202104</td>\n",
              "      <td>73ed31d33f6e35bdecae8799c1db8e4043a2ab4dc9ac6f...</td>\n",
              "      <td>3200.20</td>\n",
              "      <td>399.63</td>\n",
              "      <td>0.0</td>\n",
              "      <td>389.0</td>\n",
              "      <td>3.0</td>\n",
              "      <td>0.0</td>\n",
              "      <td>16.0</td>\n",
              "      <td>1.0</td>\n",
              "      <td>0.0</td>\n",
              "      <td>1250,00</td>\n",
              "      <td>9</td>\n",
              "      <td>1.0</td>\n",
              "      <td>1.0</td>\n",
              "      <td>0.0</td>\n",
              "    </tr>\n",
              "    <tr>\n",
              "      <th>3887432</th>\n",
              "      <td>202104</td>\n",
              "      <td>f6bee44307c0cc548092f7202687334ea558d200d4a814...</td>\n",
              "      <td>29090.48</td>\n",
              "      <td>5910.93</td>\n",
              "      <td>0.0</td>\n",
              "      <td>536.0</td>\n",
              "      <td>7.0</td>\n",
              "      <td>0.0</td>\n",
              "      <td>32.0</td>\n",
              "      <td>1.0</td>\n",
              "      <td>0.0</td>\n",
              "      <td>11700,00</td>\n",
              "      <td>8</td>\n",
              "      <td>1.0</td>\n",
              "      <td>1.0</td>\n",
              "      <td>0.0</td>\n",
              "    </tr>\n",
              "    <tr>\n",
              "      <th>3762574</th>\n",
              "      <td>202104</td>\n",
              "      <td>d960800ddd1ad8eda1184c4981db897c546a486bbaad5d...</td>\n",
              "      <td>12631.38</td>\n",
              "      <td>2003.73</td>\n",
              "      <td>0.0</td>\n",
              "      <td>433.0</td>\n",
              "      <td>1.0</td>\n",
              "      <td>0.0</td>\n",
              "      <td>12.0</td>\n",
              "      <td>0.0</td>\n",
              "      <td>1.0</td>\n",
              "      <td>4300,00</td>\n",
              "      <td>9</td>\n",
              "      <td>1.0</td>\n",
              "      <td>0.0</td>\n",
              "      <td>0.0</td>\n",
              "    </tr>\n",
              "  </tbody>\n",
              "</table>\n",
              "</div>\n",
              "      <button class=\"colab-df-convert\" onclick=\"convertToInteractive('df-cfb433ee-587f-4871-895f-f04536e666d1')\"\n",
              "              title=\"Convert this dataframe to an interactive table.\"\n",
              "              style=\"display:none;\">\n",
              "        \n",
              "  <svg xmlns=\"http://www.w3.org/2000/svg\" height=\"24px\"viewBox=\"0 0 24 24\"\n",
              "       width=\"24px\">\n",
              "    <path d=\"M0 0h24v24H0V0z\" fill=\"none\"/>\n",
              "    <path d=\"M18.56 5.44l.94 2.06.94-2.06 2.06-.94-2.06-.94-.94-2.06-.94 2.06-2.06.94zm-11 1L8.5 8.5l.94-2.06 2.06-.94-2.06-.94L8.5 2.5l-.94 2.06-2.06.94zm10 10l.94 2.06.94-2.06 2.06-.94-2.06-.94-.94-2.06-.94 2.06-2.06.94z\"/><path d=\"M17.41 7.96l-1.37-1.37c-.4-.4-.92-.59-1.43-.59-.52 0-1.04.2-1.43.59L10.3 9.45l-7.72 7.72c-.78.78-.78 2.05 0 2.83L4 21.41c.39.39.9.59 1.41.59.51 0 1.02-.2 1.41-.59l7.78-7.78 2.81-2.81c.8-.78.8-2.07 0-2.86zM5.41 20L4 18.59l7.72-7.72 1.47 1.35L5.41 20z\"/>\n",
              "  </svg>\n",
              "      </button>\n",
              "      \n",
              "  <style>\n",
              "    .colab-df-container {\n",
              "      display:flex;\n",
              "      flex-wrap:wrap;\n",
              "      gap: 12px;\n",
              "    }\n",
              "\n",
              "    .colab-df-convert {\n",
              "      background-color: #E8F0FE;\n",
              "      border: none;\n",
              "      border-radius: 50%;\n",
              "      cursor: pointer;\n",
              "      display: none;\n",
              "      fill: #1967D2;\n",
              "      height: 32px;\n",
              "      padding: 0 0 0 0;\n",
              "      width: 32px;\n",
              "    }\n",
              "\n",
              "    .colab-df-convert:hover {\n",
              "      background-color: #E2EBFA;\n",
              "      box-shadow: 0px 1px 2px rgba(60, 64, 67, 0.3), 0px 1px 3px 1px rgba(60, 64, 67, 0.15);\n",
              "      fill: #174EA6;\n",
              "    }\n",
              "\n",
              "    [theme=dark] .colab-df-convert {\n",
              "      background-color: #3B4455;\n",
              "      fill: #D2E3FC;\n",
              "    }\n",
              "\n",
              "    [theme=dark] .colab-df-convert:hover {\n",
              "      background-color: #434B5C;\n",
              "      box-shadow: 0px 1px 3px 1px rgba(0, 0, 0, 0.15);\n",
              "      filter: drop-shadow(0px 1px 2px rgba(0, 0, 0, 0.3));\n",
              "      fill: #FFFFFF;\n",
              "    }\n",
              "  </style>\n",
              "\n",
              "      <script>\n",
              "        const buttonEl =\n",
              "          document.querySelector('#df-cfb433ee-587f-4871-895f-f04536e666d1 button.colab-df-convert');\n",
              "        buttonEl.style.display =\n",
              "          google.colab.kernel.accessAllowed ? 'block' : 'none';\n",
              "\n",
              "        async function convertToInteractive(key) {\n",
              "          const element = document.querySelector('#df-cfb433ee-587f-4871-895f-f04536e666d1');\n",
              "          const dataTable =\n",
              "            await google.colab.kernel.invokeFunction('convertToInteractive',\n",
              "                                                     [key], {});\n",
              "          if (!dataTable) return;\n",
              "\n",
              "          const docLinkHtml = 'Like what you see? Visit the ' +\n",
              "            '<a target=\"_blank\" href=https://colab.research.google.com/notebooks/data_table.ipynb>data table notebook</a>'\n",
              "            + ' to learn more about interactive tables.';\n",
              "          element.innerHTML = '';\n",
              "          dataTable['output_type'] = 'display_data';\n",
              "          await google.colab.output.renderOutput(dataTable, element);\n",
              "          const docLink = document.createElement('div');\n",
              "          docLink.innerHTML = docLinkHtml;\n",
              "          element.appendChild(docLink);\n",
              "        }\n",
              "      </script>\n",
              "    </div>\n",
              "  </div>\n",
              "  "
            ]
          },
          "metadata": {},
          "execution_count": 15
        }
      ]
    },
    {
      "cell_type": "markdown",
      "metadata": {
        "id": "wz_Uxca6Ivhn"
      },
      "source": [
        "**Train-test split**\n",
        "- Fase 11: Separação de dados para treino e teste para o modelo\n",
        "- Facilitando assim a separação dos dados para o treinamento e teste do modelo"
      ]
    },
    {
      "cell_type": "code",
      "execution_count": null,
      "metadata": {
        "id": "ZY1w8nqew9LL"
      },
      "outputs": [],
      "source": [
        "#Dividindo x e y\n",
        "dados_preparados['vlr_renda'] = dados_preparados['vlr_renda'].apply(lambda x: str(x.replace(',','.')))\n",
        "dados_preparados = dados_preparados[colunas_para_treinamento]\n",
        "\n",
        "x = dados_preparados.drop(columns=\"ind_atrito\").values\n",
        "y = dados_preparados['ind_atrito']\n",
        "\n",
        "# Dividindo dados para treino e dados para teste\n",
        "x_train, x_test, y_train, y_test = train_test_split(x, y, \n",
        "                                                    test_size = 0.4, \n",
        "                                                    random_state = 10)"
      ]
    },
    {
      "cell_type": "markdown",
      "metadata": {
        "id": "mocFJ02FpYjo"
      },
      "source": [
        "**Criação dos Modelos para iniciar as FASES de treinamento do seu respectivo modelo**\n",
        "- FASE 12: Nesta fase optamos por gerar e o treinamento de todos os modelos possiveis para posteriormente julgar o melhor que se enquadrar no cenario para ser utilizado, por meio da analise da Acurácia, Revocação e Precisão."
      ]
    },
    {
      "cell_type": "markdown",
      "metadata": {
        "id": "fjK1n43Pgbx2"
      },
      "source": [
        "**Modelo SVM**\n",
        "- A Criação modelo SVM \n",
        "- Treinamento do modelo SVM"
      ]
    },
    {
      "cell_type": "code",
      "execution_count": null,
      "metadata": {
        "id": "U8ewEOGn7ifO",
        "colab": {
          "base_uri": "https://localhost:8080/"
        },
        "outputId": "9bf9b3bf-169f-4936-d878-03da0b7d676c"
      },
      "outputs": [
        {
          "output_type": "execute_result",
          "data": {
            "text/plain": [
              "SVC()"
            ]
          },
          "metadata": {},
          "execution_count": 17
        }
      ],
      "source": [
        "# Modelo SVM\n",
        "\n",
        "clf = svm.SVC()\n",
        "clf.fit(x_train, y_train)"
      ]
    },
    {
      "cell_type": "markdown",
      "metadata": {
        "id": "CrZd1g9v_-hj"
      },
      "source": [
        "**Modelo KNN**\n",
        "- A Criação também do modelo KNN\n",
        "- E o seu treinamento de modelo KNN\n"
      ]
    },
    {
      "cell_type": "code",
      "execution_count": null,
      "metadata": {
        "id": "FCNhC38xAAb-",
        "colab": {
          "base_uri": "https://localhost:8080/"
        },
        "outputId": "a5726413-d5d5-4c71-ea77-7407d4314ea7"
      },
      "outputs": [
        {
          "output_type": "execute_result",
          "data": {
            "text/plain": [
              "KNeighborsClassifier(n_neighbors=3)"
            ]
          },
          "metadata": {},
          "execution_count": 18
        }
      ],
      "source": [
        "# Modelo KNN\n",
        "\n",
        "knn_model = KNeighborsClassifier(n_neighbors=3)\n",
        "knn_model.fit(x_train, y_train)"
      ]
    },
    {
      "cell_type": "markdown",
      "metadata": {
        "id": "BoIzO0EZVspn"
      },
      "source": [
        "**Random Forest Model**\n",
        "- Criação do modelo Random Forest Model\n",
        "- Treinamento de modelo Random Forest Model"
      ]
    },
    {
      "cell_type": "code",
      "execution_count": null,
      "metadata": {
        "id": "AoXxxe4Y3q9N",
        "colab": {
          "base_uri": "https://localhost:8080/"
        },
        "outputId": "4f25a367-6377-4543-cf1b-7c2b2de52816"
      },
      "outputs": [
        {
          "output_type": "execute_result",
          "data": {
            "text/plain": [
              "RandomForestClassifier(class_weight='balanced_subsample')"
            ]
          },
          "metadata": {},
          "execution_count": 19
        }
      ],
      "source": [
        "# Modelo Random Forest Model\n",
        "\n",
        "rfcModel = RandomForestClassifier(class_weight= 'balanced_subsample', criterion= 'gini', n_estimators= 100,warm_start= False)\n",
        "rfcModel.fit(x_train, y_train)"
      ]
    },
    {
      "cell_type": "markdown",
      "metadata": {
        "id": "N-Cc2y7rV9AX"
      },
      "source": [
        "**Modelo de Árvore de decisão**\n",
        "- Criação do modelo Árvore de decisão\n",
        "- Treimento do modelo Árvore de decisão"
      ]
    },
    {
      "cell_type": "code",
      "execution_count": null,
      "metadata": {
        "id": "3M84Kuf94UFt",
        "colab": {
          "base_uri": "https://localhost:8080/"
        },
        "outputId": "e52f547a-eb18-4ff7-acc4-ba11fa7853fd"
      },
      "outputs": [
        {
          "output_type": "execute_result",
          "data": {
            "text/plain": [
              "DecisionTreeClassifier(criterion='entropy', random_state=10)"
            ]
          },
          "metadata": {},
          "execution_count": 20
        }
      ],
      "source": [
        "# Treinando o modelo\n",
        "\n",
        "model = DecisionTreeClassifier(criterion='entropy',random_state = 10)\n",
        "model.fit(x_train, y_train)"
      ]
    },
    {
      "cell_type": "markdown",
      "metadata": {
        "id": "IrpQPP1JjO8G"
      },
      "source": [
        "**Validação dos modelos**\n",
        "- FASE 13: Fazer a validação de cada modelo com os seguintes teste: Acurácia, Revocação e Precisão.\n",
        "- Assim facilitando a escolha e a decisão de qual modelo usaremos futuramente"
      ]
    },
    {
      "cell_type": "code",
      "execution_count": null,
      "metadata": {
        "id": "bBLGo3Y55Dng",
        "colab": {
          "base_uri": "https://localhost:8080/"
        },
        "outputId": "ede2f336-3385-489e-f55e-0577b7ac6b08"
      },
      "outputs": [
        {
          "output_type": "stream",
          "name": "stdout",
          "text": [
            "--------------SVM---------------\n",
            "Acuracia: 0.7175\n",
            "Acuracia treino:\n",
            "Revocação: 0.7272727272727273\n",
            "Precisão: 0.7787610619469026\n"
          ]
        },
        {
          "output_type": "display_data",
          "data": {
            "text/plain": [
              "<Figure size 432x288 with 2 Axes>"
            ],
            "image/png": "[encoded data removed]"
          },
          "metadata": {
            "needs_background": "light"
          }
        }
      ],
      "source": [
        "#Acuracia, Revocação e Precisão respectivamento do modelo de treinamento svm\n",
        "\n",
        "from sklearn import metrics\n",
        "\n",
        "print(\"--------------SVM---------------\")\n",
        "print(\"Acuracia:\" , clf.score(x_test, y_test))\n",
        "print(\"Acuracia treino:\")\n",
        "y_pred_clf = model.predict(x_test)\n",
        "plot_confusion_matrix(clf, x_test, y_test, cmap='Blues')\n",
        "print(\"Revocação:\",metrics.recall_score(y_pred_clf , y_test, average=\"binary\"))\n",
        "print(\"Precisão:\",precision_score(y_pred_clf , y_test, average=\"binary\"))"
      ]
    },
    {
      "cell_type": "code",
      "execution_count": null,
      "metadata": {
        "id": "fhZ6WBW2VQC_",
        "colab": {
          "base_uri": "https://localhost:8080/"
        },
        "outputId": "5a525776-0f70-4498-e1ac-be6f1f87dc33"
      },
      "outputs": [
        {
          "output_type": "stream",
          "name": "stdout",
          "text": [
            "--------------KNN---------------\n",
            "Acuracia: 0.7225\n",
            "Acuracia treino:\n",
            "Revocação: 0.5125\n",
            "Precisão: 0.36283185840707965\n"
          ]
        },
        {
          "output_type": "display_data",
          "data": {
            "text/plain": [
              "<Figure size 432x288 with 2 Axes>"
            ],
            "image/png": "[encoded data removed]"
          },
          "metadata": {
            "needs_background": "light"
          }
        }
      ],
      "source": [
        "#Acuracia, Revocação e Precisão respectivamento do modelo de treinamento KNN\n",
        "print(\"--------------KNN---------------\")\n",
        "print(\"Acuracia:\",knn_model.score(x_test, y_test))\n",
        "print(\"Acuracia treino:\")\n",
        "y_pred_knn = knn_model.predict(x_test)\n",
        "plot_confusion_matrix(knn_model, x_test, y_test, cmap='Blues')\n",
        "print(\"Revocação:\",recall_score(y_pred_knn , y_test, average=\"binary\"))\n",
        "print(\"Precisão:\",precision_score(y_pred_knn , y_test, average=\"binary\"))"
      ]
    },
    {
      "cell_type": "code",
      "execution_count": null,
      "metadata": {
        "id": "-IKjAr2GVQUO",
        "colab": {
          "base_uri": "https://localhost:8080/"
        },
        "outputId": "b7c7359c-a075-4539-9f27-fd0749d37685"
      },
      "outputs": [
        {
          "output_type": "stream",
          "name": "stdout",
          "text": [
            "--------------Arvore de decisão---------------\n",
            "Acuracia: 0.855\n",
            "Acuracia treino: 0.9783333333333334\n",
            "Revocação: 0.7272727272727273\n",
            "Precisão: 0.7787610619469026\n"
          ]
        },
        {
          "output_type": "display_data",
          "data": {
            "text/plain": [
              "<Figure size 432x288 with 2 Axes>"
            ],
            "image/png": "[encoded data removed]"
          },
          "metadata": {
            "needs_background": "light"
          }
        }
      ],
      "source": [
        "#Acuracia, Revocação e Precisão respectivamento do modelo de treinamento Arvore de decisão\n",
        "print(\"--------------Arvore de decisão---------------\")\n",
        "print(\"Acuracia:\",model.score(x_test, y_test))\n",
        "print(\"Acuracia treino:\",model.score(x_train,y_train))\n",
        "y_pred_tree = model.predict(x_test)\n",
        "plot_confusion_matrix(model, x_test, y_test, cmap='Blues')\n",
        "print(\"Revocação:\",recall_score(y_pred_tree , y_test, average=\"binary\"))\n",
        "print(\"Precisão:\",precision_score(y_pred_tree , y_test, average=\"binary\"))"
      ]
    },
    {
      "cell_type": "code",
      "execution_count": null,
      "metadata": {
        "id": "pCR6DNE5VQkL",
        "colab": {
          "base_uri": "https://localhost:8080/"
        },
        "outputId": "8e246bcc-4dee-4d34-cf0b-89a72a24c4a0"
      },
      "outputs": [
        {
          "output_type": "stream",
          "name": "stdout",
          "text": [
            "--------------Random Forest Model---------------\n",
            "Acuracia: 0.8675\n",
            "Acuracia treino: 0.9733333333333334\n",
            "Revocação: 0.7678571428571429\n",
            "Precisão: 0.7610619469026548\n"
          ]
        },
        {
          "output_type": "display_data",
          "data": {
            "text/plain": [
              "<Figure size 432x288 with 2 Axes>"
            ],
            "image/png": "[encoded data removed]"
          },
          "metadata": {
            "needs_background": "light"
          }
        }
      ],
      "source": [
        "#Acuracia, Revocação e Precisão respectivamento do modelo de treinamento Random Forest Model\n",
        "print(\"--------------Random Forest Model---------------\")\n",
        "y_pred_rcf = rfcModel.predict(x_test)\n",
        "\n",
        "plot_confusion_matrix(rfcModel, x_test, y_test, cmap='Blues')\n",
        "\n",
        "print(\"Acuracia:\",rfcModel.score(x_test, y_test))\n",
        "print(\"Acuracia treino:\", rfcModel.score(x_train,y_train))\n",
        "print(\"Revocação:\",recall_score(y_pred_rcf, y_test, average=\"binary\"))\n",
        "print(\"Precisão:\",precision_score(y_pred_rcf, y_test, average=\"binary\"))"
      ]
    },
    {
      "cell_type": "code",
      "execution_count": null,
      "metadata": {
        "id": "hpb236SFMOA_"
      },
      "outputs": [],
      "source": [
        "from sklearn.model_selection import GridSearchCV, RandomizedSearchCV"
      ]
    },
    {
      "cell_type": "markdown",
      "source": [
        "<h1>Não rodar essa cedula</h1>"
      ],
      "metadata": {
        "id": "D94Gq4JvMgTd"
      }
    },
    {
      "cell_type": "markdown",
      "source": [
        "**Teste de hiperparâmetros**\n",
        "- Fase 14: Nesta etapa, utilizamos os teste de hiperparâmetros para testar os modelos criados\n",
        "- Desta forma, procuramos utilizar Grid Search e o Random Search para testar o nosso modelo preditivo. Resultando nos melhores parâmetros para ajudar o modelo a chegar no resultado desejado"
      ],
      "metadata": {
        "id": "PUfEC27sSJUY"
      }
    },
    {
      "cell_type": "markdown",
      "source": [
        "**Hiperparâmetros:**\n",
        "- hiperparâmetros selecionados para teste"
      ],
      "metadata": {
        "id": "o6OSz54HUu3K"
      }
    },
    {
      "cell_type": "code",
      "source": [
        "# Definir o espaço possível dos hiperparametros a serem testados no modelo\n",
        "parametros = {'n_estimators':[80,90,100,110,120],\n",
        "              'criterion':[\"gini\", \"entropy\", \"log_loss\"],\n",
        "              \"class_weight\":[\"balanced\", \"balanced_subsample\"],\n",
        "              \"warm_start\":[True, False],}\n",
        "            "
      ],
      "metadata": {
        "id": "IzoFoxX3Us2T"
      },
      "execution_count": null,
      "outputs": []
    },
    {
      "cell_type": "markdown",
      "source": [
        "**Grid Search**"
      ],
      "metadata": {
        "id": "hvVcl5QQUTlO"
      }
    },
    {
      "cell_type": "code",
      "execution_count": null,
      "metadata": {
        "id": "E8Nff-FwMOt-",
        "colab": {
          "base_uri": "https://localhost:8080/"
        },
        "outputId": "40b5b9e6-bcaa-42f3-de5d-6ee2b8367529"
      },
      "outputs": [
        {
          "output_type": "execute_result",
          "data": {
            "text/plain": [
              "GridSearchCV(estimator=RandomForestClassifier(),\n",
              "             param_grid={'class_weight': ['balanced', 'balanced_subsample'],\n",
              "                         'criterion': ['gini', 'entropy', 'log_loss'],\n",
              "                         'n_estimators': [80, 90, 100, 110, 120],\n",
              "                         'warm_start': [True, False]})"
            ]
          },
          "metadata": {},
          "execution_count": 27
        }
      ],
      "source": [
        "grid_search = GridSearchCV(estimator = RandomForestClassifier() , param_grid=parametros)\n",
        "grid_search.fit(x_train, y_train.squeeze())"
      ]
    },
    {
      "cell_type": "markdown",
      "source": [
        "Resultados obtidos:"
      ],
      "metadata": {
        "id": "aJQNI6OYUktd"
      }
    },
    {
      "cell_type": "code",
      "execution_count": null,
      "metadata": {
        "id": "fk9tEWJk7axQ",
        "colab": {
          "base_uri": "https://localhost:8080/"
        },
        "outputId": "5ddc4845-9379-4be4-f4e4-f6b5064cce3f"
      },
      "outputs": [
        {
          "output_type": "stream",
          "name": "stdout",
          "text": [
            "0.86\n",
            "{'class_weight': 'balanced_subsample', 'criterion': 'gini', 'n_estimators': 90, 'warm_start': False}\n"
          ]
        }
      ],
      "source": [
        "print(grid_search.best_score_)\n",
        "print(grid_search.best_params_)"
      ]
    },
    {
      "cell_type": "markdown",
      "source": [
        "**Random Search**"
      ],
      "metadata": {
        "id": "lVcRlh44U82t"
      }
    },
    {
      "cell_type": "code",
      "execution_count": null,
      "metadata": {
        "id": "lq61Hhev7g6A",
        "colab": {
          "base_uri": "https://localhost:8080/"
        },
        "outputId": "a372770a-599f-43b0-a0f7-a7019ba09f4d"
      },
      "outputs": [
        {
          "output_type": "execute_result",
          "data": {
            "text/plain": [
              "RandomizedSearchCV(estimator=RandomForestClassifier(),\n",
              "                   param_distributions={'class_weight': ['balanced',\n",
              "                                                         'balanced_subsample'],\n",
              "                                        'criterion': ['gini', 'entropy',\n",
              "                                                      'log_loss'],\n",
              "                                        'n_estimators': [80, 90, 100, 110, 120],\n",
              "                                        'warm_start': [True, False]})"
            ]
          },
          "metadata": {},
          "execution_count": 29
        }
      ],
      "source": [
        "randomized_search = RandomizedSearchCV(RandomForestClassifier(), param_distributions=parametros)\n",
        "randomized_search.fit(x_train, y_train.squeeze())"
      ]
    },
    {
      "cell_type": "markdown",
      "source": [
        "Resultados obtidos:"
      ],
      "metadata": {
        "id": "FOgf7zvPVIkb"
      }
    },
    {
      "cell_type": "code",
      "source": [
        "print(randomized_search.best_score_)\n",
        "print(randomized_search.best_params_)"
      ],
      "metadata": {
        "id": "VmRwnAZKNsq3",
        "colab": {
          "base_uri": "https://localhost:8080/"
        },
        "outputId": "44345321-8e52-4c50-85e2-c16131ba674f"
      },
      "execution_count": null,
      "outputs": [
        {
          "output_type": "stream",
          "name": "stdout",
          "text": [
            "0.86\n",
            "{'warm_start': True, 'n_estimators': 110, 'criterion': 'entropy', 'class_weight': 'balanced_subsample'}\n"
          ]
        }
      ]
    },
    {
      "cell_type": "markdown",
      "source": [
        "**Conclusão**\n",
        "- Ao final, podemos concluir que o melhor hiperparâmetro para ser utilizado é o Grid Search. Pois além do best_score ter sido o melhor, ele permite fazer todos os teste possíveis, caso contrario do Random Search, já que ele faz teste aleatórios.\n",
        "- Desta forma, nossos hiperparâmetros são: {'class_weight': 'balanced_subsample', 'criterion': 'gini', 'n_estimators': 100, 'warm_start': False}"
      ],
      "metadata": {
        "id": "GgPaLu5aVuoK"
      }
    }
  ],
  "metadata": {
    "colab": {
      "collapsed_sections": [],
      "provenance": []
    },
    "kernelspec": {
      "display_name": "Python 3",
      "name": "python3"
    },
    "language_info": {
      "name": "python"
    }
  },
  "nbformat": 4,
  "nbformat_minor": 0
}